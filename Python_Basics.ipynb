{
  "cells": [
    {
      "cell_type": "markdown",
      "metadata": {
        "id": "view-in-github",
        "colab_type": "text"
      },
      "source": [
        "<a href=\"https://colab.research.google.com/github/DeboubaAfef/Emotion-recognition/blob/master/Python_Basics.ipynb\" target=\"_parent\"><img src=\"https://colab.research.google.com/assets/colab-badge.svg\" alt=\"Open In Colab\"/></a>"
      ]
    },
    {
      "cell_type": "markdown",
      "id": "dc2c09ec",
      "metadata": {
        "id": "dc2c09ec"
      },
      "source": [
        "# ***🐍 PYTHON BASICS - INSTRUCTOR: Ranya Khabir| HACKERSPACE: Tataouine INTRODUCTION TO ARTIFICIAL INTELLIGENCE***\n",
        "\n",
        "This Colab notebook covers **every fundamental Python concept** with interactive examples. Run each cell to learn and practice!"
      ]
    },
    {
      "cell_type": "markdown",
      "id": "cbac3892",
      "metadata": {
        "id": "cbac3892"
      },
      "source": [
        "## 📌 **1. Python Syntax – The Rules of the Game 🎮**\n",
        "Python follows a simple and readable syntax. Unlike other languages like C, Java, or JavaScript, Python:\n",
        "- Python **doesn’t use** `{}` for code blocks.\n",
        "- **Indentation** is **mandatory** for structuring the code.\n",
        "- It’s **case-sensitive** (`name` ≠ `Name`).\n",
        "- **Comments** start with `#`."
      ]
    },
    {
      "cell_type": "markdown",
      "source": [
        "🔹 **Explanation:**\n",
        "\n",
        "* Indentation is used instead of curly braces {} to define blocks of code.\n",
        "\n",
        "* Python scripts can be executed directly without compiling.\n",
        "\n",
        "* Whitespace matters, and incorrect indentation can cause errors.\n",
        "\n",
        "* Single-line comments use #, while multi-line comments use triple quotes ''' or \"\"\"."
      ],
      "metadata": {
        "id": "DhXaPRQniyRE"
      },
      "id": "DhXaPRQniyRE"
    },
    {
      "cell_type": "code",
      "execution_count": null,
      "id": "bda866a0",
      "metadata": {
        "colab": {
          "base_uri": "https://localhost:8080/"
        },
        "id": "bda866a0",
        "outputId": "04e0c2b6-faa3-470d-93c1-b8df43747741"
      },
      "outputs": [
        {
          "output_type": "stream",
          "name": "stdout",
          "text": [
            "Hello, World!\n"
          ]
        }
      ],
      "source": [
        "# ✅ Example: Printing and Comments\n",
        "# This is a comment\n",
        "print('Hello, World!')  # Output: Hello, World!"
      ]
    },
    {
      "cell_type": "markdown",
      "id": "bb9ebc0c",
      "metadata": {
        "id": "bb9ebc0c"
      },
      "source": [
        "## 📌 **2. Variables and Constants – Storing Data 📦**\n"
      ]
    },
    {
      "cell_type": "markdown",
      "source": [
        "A variable is used to store data, and it can change. A **constant** (by convention) is written in **UPPERCASE** and should not change.\n",
        "\n",
        "🔹 **Explanation:**\n",
        "\n",
        "* Variables are dynamically typed, meaning you don’t have to declare the type.\n",
        "\n",
        "* Constants are not enforced in Python, but the convention is to use uppercase names for them.\n",
        "\n",
        "* Variables can hold different types of values: integers, strings, floats, booleans, etc.\n",
        "\n",
        "* Use descriptive names to make your code readable."
      ],
      "metadata": {
        "id": "2SFhnN6YiRsd"
      },
      "id": "2SFhnN6YiRsd"
    },
    {
      "cell_type": "code",
      "execution_count": null,
      "id": "2fa930f0",
      "metadata": {
        "colab": {
          "base_uri": "https://localhost:8080/"
        },
        "id": "2fa930f0",
        "outputId": "34b78def-1d1b-42b4-c4e2-000912129593"
      },
      "outputs": [
        {
          "output_type": "stream",
          "name": "stdout",
          "text": [
            "10 Hello 3.14159\n"
          ]
        }
      ],
      "source": [
        "# ✅ Example: Variables\n",
        "x = 10  # Integer\n",
        "y = 'Hello'  # String\n",
        "PI = 3.14159  # Constant (by convention)\n",
        "print(x, y, PI)"
      ]
    },
    {
      "cell_type": "markdown",
      "id": "b340937e",
      "metadata": {
        "id": "b340937e"
      },
      "source": [
        "## 📌 **3. Assigning & Reassigning Values 🔄**"
      ]
    },
    {
      "cell_type": "markdown",
      "source": [
        "Variables can hold different types of values, and they can be reassigned.\n",
        "\n",
        "🔹 Explanation\n",
        "\n",
        "* You can assign a value to a variable using =.\n",
        "\n",
        "* Variables in Python are dynamically typed, meaning you can change their type by reassigning them.\n",
        "\n",
        "* You can assign new values to variables at any time."
      ],
      "metadata": {
        "id": "JKJa5nwShrPX"
      },
      "id": "JKJa5nwShrPX"
    },
    {
      "cell_type": "code",
      "execution_count": null,
      "id": "1c5ef301",
      "metadata": {
        "colab": {
          "base_uri": "https://localhost:8080/"
        },
        "id": "1c5ef301",
        "outputId": "1473cf29-db1b-484c-86b6-3c0c7fd8ac8b"
      },
      "outputs": [
        {
          "output_type": "stream",
          "name": "stdout",
          "text": [
            "Before swap: 5 10\n",
            "After swap: 10 5\n"
          ]
        }
      ],
      "source": [
        "# ✅ Example: Assigning and Swapping Variables\n",
        "a, b = 5, 10\n",
        "print('Before swap:', a, b)\n",
        "a, b = b, a\n",
        "print('After swap:', a, b)"
      ]
    },
    {
      "cell_type": "markdown",
      "id": "0c50be70",
      "metadata": {
        "id": "0c50be70"
      },
      "source": [
        "## 📌 **4. Arithmetic Operators – Playing with Numbers 🔢**"
      ]
    },
    {
      "cell_type": "markdown",
      "source": [
        "Python supports various arithmetic operations.\n",
        "\n",
        "🔹 **Explanation:**\n",
        "\n",
        "* Arithmetic operators allow performing mathematical operations on numeric values.\n",
        "* The + operator is used for addition, - for subtraction, * for multiplication, / for division, // for floor division, % for modulus, and ** for exponentiation."
      ],
      "metadata": {
        "id": "xoBXOqN9hVrs"
      },
      "id": "xoBXOqN9hVrs"
    },
    {
      "cell_type": "code",
      "execution_count": null,
      "id": "19c58ae6",
      "metadata": {
        "colab": {
          "base_uri": "https://localhost:8080/"
        },
        "id": "19c58ae6",
        "outputId": "d88c2815-f8cc-48a8-82db-75ffa9800141"
      },
      "outputs": [
        {
          "output_type": "stream",
          "name": "stdout",
          "text": [
            "Addition: 13\n",
            "Subtraction: 7\n",
            "Multiplication: 30\n",
            "Division: 3.3333333333333335\n",
            "Floor Division: 3\n",
            "Modulus: 1\n",
            "Exponentiation: 1000\n"
          ]
        }
      ],
      "source": [
        "# ✅ Example: Arithmetic Operations\n",
        "x = 10\n",
        "y = 3\n",
        "print('Addition:', x + y)\n",
        "print('Subtraction:', x - y)\n",
        "print('Multiplication:', x * y)\n",
        "print('Division:', x / y)\n",
        "print('Floor Division:', x // y)\n",
        "print('Modulus:', x % y)\n",
        "print('Exponentiation:', x ** y)"
      ]
    },
    {
      "cell_type": "markdown",
      "id": "73683f47",
      "metadata": {
        "id": "73683f47"
      },
      "source": [
        "## 📌 **5. Comparison Operators – Checking Conditions 🤔**"
      ]
    },
    {
      "cell_type": "markdown",
      "source": [
        "Used for True/False comparisons.\n",
        "\n",
        "🔹 **Explanation:**\n",
        "\n",
        "*   Comparison operators compare values and return a Boolean result (True or False).\n",
        "*   These are often used in conditional statements and loops.\n"
      ],
      "metadata": {
        "id": "kDC863U1geYr"
      },
      "id": "kDC863U1geYr"
    },
    {
      "cell_type": "code",
      "execution_count": null,
      "id": "da43a58f",
      "metadata": {
        "colab": {
          "base_uri": "https://localhost:8080/"
        },
        "id": "da43a58f",
        "outputId": "f6eb49e8-e3b7-4a5a-df9d-a498903c2199"
      },
      "outputs": [
        {
          "output_type": "stream",
          "name": "stdout",
          "text": [
            "Equal: False\n",
            "Not Equal: True\n",
            "Greater Than: True\n",
            "Less Than: False\n",
            "Greater Than or Equal to: True\n",
            "Less than or equal to: False\n"
          ]
        }
      ],
      "source": [
        "# ✅ Example: Comparison Operations\n",
        "a, b = 10, 5\n",
        "print('Equal:', a == b)\n",
        "print('Not Equal:', a != b)\n",
        "print('Greater Than:', a > b)\n",
        "print('Less Than:', a < b)\n",
        "print('Greater Than or Equal to:',a >= b)\n",
        "print('Less than or equal to:', a <= b)"
      ]
    },
    {
      "cell_type": "markdown",
      "id": "ccaddebe",
      "metadata": {
        "id": "ccaddebe"
      },
      "source": [
        "## 📌 **6. Data Types – What Can We Store? 📂**"
      ]
    },
    {
      "cell_type": "markdown",
      "source": [
        "Python supports different data types.\n",
        "\n",
        "🔹 **Explanation:**\n",
        "\n",
        "*   Data types define what kind of value a variable can hold.\n",
        "*   Python supports several built-in data types including integers, floating-point numbers, strings, lists, tuples, dictionaries, and sets.\n",
        "\n"
      ],
      "metadata": {
        "id": "EhKJRZK3gECl"
      },
      "id": "EhKJRZK3gECl"
    },
    {
      "cell_type": "code",
      "execution_count": null,
      "id": "29c75d86",
      "metadata": {
        "colab": {
          "base_uri": "https://localhost:8080/"
        },
        "id": "29c75d86",
        "outputId": "6a91fe6b-38ab-443d-c4c2-e008760545da"
      },
      "outputs": [
        {
          "output_type": "stream",
          "name": "stdout",
          "text": [
            "<class 'int'> <class 'float'> <class 'str'>\n"
          ]
        }
      ],
      "source": [
        "# ✅ Example: Data Types\n",
        "int_var = 25\n",
        "float_var = 5.5\n",
        "str_var = 'Python'\n",
        "bool_var = True\n",
        "list_var = ['apple', 'banana', 'cherry']\n",
        "tuple_var = (1, 2, 3)\n",
        "dict_var = {'name': 'Ali', 'age': 25}\n",
        "set_var = {1, 2, 3}\n",
        "print(type(int_var), type(float_var), type(str_var))"
      ]
    },
    {
      "cell_type": "markdown",
      "id": "7a38f60a",
      "metadata": {
        "id": "7a38f60a"
      },
      "source": [
        "## 📌 **7. Strings – Playing with Text ✍️**\n",
        "Strings allow you to work with text."
      ]
    },
    {
      "cell_type": "markdown",
      "source": [
        "✅ **Basic String Operations:**"
      ],
      "metadata": {
        "id": "IIQgOEv7kJ_5"
      },
      "id": "IIQgOEv7kJ_5"
    },
    {
      "cell_type": "code",
      "execution_count": null,
      "id": "1cebb9c3",
      "metadata": {
        "colab": {
          "base_uri": "https://localhost:8080/"
        },
        "id": "1cebb9c3",
        "outputId": "08c13817-e844-4ad8-9573-a9a509d0c403"
      },
      "outputs": [
        {
          "output_type": "stream",
          "name": "stdout",
          "text": [
            "PYTHON\n",
            "python\n",
            "P\n",
            "n\n"
          ]
        }
      ],
      "source": [
        "# ✅ Example: String Operations\n",
        "text = 'Python'\n",
        "print(text.upper())\n",
        "print(text.lower())\n",
        "print(text[0])  # First character\n",
        "print(text[-1])  # Last character"
      ]
    },
    {
      "cell_type": "markdown",
      "source": [
        "✅ **String Concatenation:**"
      ],
      "metadata": {
        "id": "Zcr6TL9MkSwz"
      },
      "id": "Zcr6TL9MkSwz"
    },
    {
      "cell_type": "code",
      "source": [
        "first = \"Rania\"\n",
        "last = \"khabir\"\n",
        "full_name = first + \" \" + last  # \"Ali Tunis\"\n",
        "print(full_name)"
      ],
      "metadata": {
        "colab": {
          "base_uri": "https://localhost:8080/"
        },
        "id": "yAOe9KBpkYGo",
        "outputId": "572f2015-415a-4944-eda8-71060e9d91b9"
      },
      "id": "yAOe9KBpkYGo",
      "execution_count": null,
      "outputs": [
        {
          "output_type": "stream",
          "name": "stdout",
          "text": [
            "Rania khabir\n"
          ]
        }
      ]
    },
    {
      "cell_type": "markdown",
      "source": [
        "✅ **Strings (Best for Formatting):**"
      ],
      "metadata": {
        "id": "VleVLJ4xka2D"
      },
      "id": "VleVLJ4xka2D"
    },
    {
      "cell_type": "code",
      "source": [
        "name = \"Rania\"\n",
        "age = 24\n",
        "print(f\"My name is {name} and I am {age} years old.\")"
      ],
      "metadata": {
        "colab": {
          "base_uri": "https://localhost:8080/"
        },
        "id": "cGj08Ee2kh-h",
        "outputId": "146464dc-46f8-4429-a6b0-8081ad1cbd8c"
      },
      "id": "cGj08Ee2kh-h",
      "execution_count": null,
      "outputs": [
        {
          "output_type": "stream",
          "name": "stdout",
          "text": [
            "My name is Rania and I am 24 years old.\n"
          ]
        }
      ]
    },
    {
      "cell_type": "markdown",
      "id": "5c89b6c1",
      "metadata": {
        "id": "5c89b6c1"
      },
      "source": [
        "## 📌 **8. Boolean – True or False? ✅❌**"
      ]
    },
    {
      "cell_type": "markdown",
      "source": [
        "Booleans (True or False) are used in conditions."
      ],
      "metadata": {
        "id": "HrIFvz4Yk9Eo"
      },
      "id": "HrIFvz4Yk9Eo"
    },
    {
      "cell_type": "code",
      "source": [
        "is_adult = True\n",
        "print(10 > 5)  # True\n",
        "print(10 == 5) # False"
      ],
      "metadata": {
        "colab": {
          "base_uri": "https://localhost:8080/"
        },
        "id": "5ZkZ_r9LlCZo",
        "outputId": "33f300db-5c5d-4112-b3c3-a6bb1e90a740"
      },
      "id": "5ZkZ_r9LlCZo",
      "execution_count": null,
      "outputs": [
        {
          "output_type": "stream",
          "name": "stdout",
          "text": [
            "True\n",
            "False\n"
          ]
        }
      ]
    },
    {
      "cell_type": "markdown",
      "id": "9cc2efc5",
      "metadata": {
        "id": "9cc2efc5"
      },
      "source": [
        "## 📌 **9. Type Conversion – Changing Data Types 🔄**"
      ]
    },
    {
      "cell_type": "markdown",
      "source": [
        "You can convert between types."
      ],
      "metadata": {
        "id": "BmuJZbGXlJYo"
      },
      "id": "BmuJZbGXlJYo"
    },
    {
      "cell_type": "code",
      "execution_count": null,
      "id": "a0d4fb81",
      "metadata": {
        "colab": {
          "base_uri": "https://localhost:8080/"
        },
        "id": "a0d4fb81",
        "outputId": "b9f1d1c9-6f74-4859-c171-6144278e5cb7"
      },
      "outputs": [
        {
          "output_type": "stream",
          "name": "stdout",
          "text": [
            "5\n",
            "5.5\n",
            "10\n",
            "False\n",
            "True\n"
          ]
        }
      ],
      "source": [
        "# ✅ Example: Type Conversion\n",
        "print(int(\"5\"))  # 5\n",
        "print(float(\"5.5\"))  # 5.5\n",
        "print(str(10))  # \"10\"\n",
        "print(bool(0))  # False\n",
        "print(bool(1))  # True"
      ]
    },
    {
      "cell_type": "markdown",
      "id": "07cdd2b8",
      "metadata": {
        "id": "07cdd2b8"
      },
      "source": [
        "## 📌 **10. If Statements – Making Decisions 🚦**"
      ]
    },
    {
      "cell_type": "code",
      "execution_count": null,
      "id": "57f525b4",
      "metadata": {
        "colab": {
          "base_uri": "https://localhost:8080/"
        },
        "id": "57f525b4",
        "outputId": "deec79b0-3366-4710-c569-af85037513c5"
      },
      "outputs": [
        {
          "output_type": "stream",
          "name": "stdout",
          "text": [
            "You can vote!\n"
          ]
        }
      ],
      "source": [
        "# ✅ Example: If Condition\n",
        "age = 18\n",
        "if age >= 18:\n",
        "    print('You can vote!')\n",
        "else:\n",
        "    print('You cannot vote.')"
      ]
    },
    {
      "cell_type": "markdown",
      "source": [
        "## 📌 **11. If / Else Condition**"
      ],
      "metadata": {
        "id": "KslROzEQlbap"
      },
      "id": "KslROzEQlbap"
    },
    {
      "cell_type": "markdown",
      "source": [
        "✅ **Example**"
      ],
      "metadata": {
        "id": "VGsyGP52llb9"
      },
      "id": "VGsyGP52llb9"
    },
    {
      "cell_type": "code",
      "source": [
        "x = 10\n",
        "if x > 5:\n",
        "    print(\"x is greater than 5\")\n",
        "else:\n",
        "    print(\"x is 5 or less\")"
      ],
      "metadata": {
        "colab": {
          "base_uri": "https://localhost:8080/"
        },
        "id": "cYsFI0cAloH8",
        "outputId": "fbdd5d60-6354-4cf3-d12d-898a2a8a0756"
      },
      "id": "cYsFI0cAloH8",
      "execution_count": null,
      "outputs": [
        {
          "output_type": "stream",
          "name": "stdout",
          "text": [
            "x is greater than 5\n"
          ]
        }
      ]
    },
    {
      "cell_type": "markdown",
      "source": [
        "## 📌**12. If / Else / Elif Condition**"
      ],
      "metadata": {
        "id": "vSLdEXyUlt7m"
      },
      "id": "vSLdEXyUlt7m"
    },
    {
      "cell_type": "code",
      "source": [
        "x = 10\n",
        "if x > 10:\n",
        "    print(\"Greater than 10\")\n",
        "elif x == 10:\n",
        "    print(\"Equal to 10\")\n",
        "else:\n",
        "    print(\"Less than 10\")"
      ],
      "metadata": {
        "colab": {
          "base_uri": "https://localhost:8080/"
        },
        "id": "I5WJBcU_l_NM",
        "outputId": "3826abc3-95b4-45e2-bf44-98582ce6b288"
      },
      "id": "I5WJBcU_l_NM",
      "execution_count": null,
      "outputs": [
        {
          "output_type": "stream",
          "name": "stdout",
          "text": [
            "Equal to 10\n"
          ]
        }
      ]
    },
    {
      "cell_type": "markdown",
      "id": "9ac0468c",
      "metadata": {
        "id": "9ac0468c"
      },
      "source": [
        "## 📌 **11. Loops – Repeating Actions 🔁**"
      ]
    },
    {
      "cell_type": "markdown",
      "source": [
        "**For Loop – Repeats a Fixed Number of Times**"
      ],
      "metadata": {
        "id": "SkYvdIUsmNHP"
      },
      "id": "SkYvdIUsmNHP"
    },
    {
      "cell_type": "code",
      "execution_count": null,
      "id": "572d6ec0",
      "metadata": {
        "colab": {
          "base_uri": "https://localhost:8080/"
        },
        "id": "572d6ec0",
        "outputId": "5b7d208b-9d90-4d82-d92a-ab89deb74517"
      },
      "outputs": [
        {
          "output_type": "stream",
          "name": "stdout",
          "text": [
            "0\n",
            "1\n",
            "2\n",
            "3\n",
            "4\n"
          ]
        }
      ],
      "source": [
        "# ✅ Example: For Loop\n",
        "for i in range(5):\n",
        "    print(i)"
      ]
    },
    {
      "cell_type": "markdown",
      "source": [
        "**While Loop – Repeats Until Condition is False**"
      ],
      "metadata": {
        "id": "SBhnxb2JmQ7P"
      },
      "id": "SBhnxb2JmQ7P"
    },
    {
      "cell_type": "code",
      "execution_count": null,
      "id": "c59be4b8",
      "metadata": {
        "colab": {
          "base_uri": "https://localhost:8080/"
        },
        "id": "c59be4b8",
        "outputId": "5fdf2ae3-2b8d-4511-a648-208e4a4e37d8"
      },
      "outputs": [
        {
          "output_type": "stream",
          "name": "stdout",
          "text": [
            "0\n",
            "1\n",
            "2\n",
            "3\n",
            "4\n"
          ]
        }
      ],
      "source": [
        "# ✅ Example: While Loop\n",
        "x = 0\n",
        "while x < 5:\n",
        "    print(x)\n",
        "    x += 1"
      ]
    },
    {
      "cell_type": "markdown",
      "id": "d79e5218",
      "metadata": {
        "id": "d79e5218"
      },
      "source": [
        "## 🎯 **Conclusion – You're Ready to Code! 🎯**\n",
        "✅ You learned variables, data types, loops, conditions, and more!\n",
        "\n",
        "✅ Python is simple and powerful.\n",
        "\n",
        "✅ Practice by writing your own programs!"
      ]
    }
  ],
  "metadata": {
    "colab": {
      "provenance": [],
      "include_colab_link": true
    },
    "language_info": {
      "name": "python"
    },
    "kernelspec": {
      "name": "python3",
      "display_name": "Python 3"
    }
  },
  "nbformat": 4,
  "nbformat_minor": 5
}